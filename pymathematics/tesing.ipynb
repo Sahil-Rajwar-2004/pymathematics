{
 "cells": [
  {
   "cell_type": "code",
   "execution_count": 1,
   "metadata": {},
   "outputs": [],
   "source": [
    "from main import (\n",
    "    constants,\n",
    "    factorial,\n",
    "    fibonacci_sequence,\n",
    "    absolute,\n",
    "    summation,\n",
    "    product,\n",
    "    sqrt,\n",
    "    quadratic_roots,\n",
    "    exp,\n",
    "    sin,\n",
    "    cos,\n",
    "    log,\n",
    "    ln,\n",
    "    mean,\n",
    "    standard_deviation,\n",
    "    combination,\n",
    "    permutation,\n",
    "    geometric_mean,\n",
    "    harmonic_mean,\n",
    "    mode,\n",
    "    zscore,\n",
    "    square_sum,\n",
    "    moving_average,\n",
    "    exponential_moving_average,\n",
    "    correlation_coefficient,\n",
    ")\n",
    "import numpy"
   ]
  },
  {
   "cell_type": "code",
   "execution_count": 2,
   "metadata": {},
   "outputs": [],
   "source": [
    "from main import(\n",
    "    binary_cross_entropy\n",
    ")"
   ]
  },
  {
   "cell_type": "code",
   "execution_count": 3,
   "metadata": {},
   "outputs": [
    {
     "data": {
      "text/plain": [
       "5.5"
      ]
     },
     "execution_count": 3,
     "metadata": {},
     "output_type": "execute_result"
    }
   ],
   "source": [
    "mean([1,2,3,4,5,6,7,8,9,10])"
   ]
  },
  {
   "cell_type": "code",
   "execution_count": 4,
   "metadata": {},
   "outputs": [
    {
     "name": "stdout",
     "output_type": "stream",
     "text": [
      "3.141592653589793\n",
      "2.718281828459045\n"
     ]
    }
   ],
   "source": [
    "print(constants.pi)\n",
    "print(constants.exp)"
   ]
  },
  {
   "cell_type": "code",
   "execution_count": 5,
   "metadata": {},
   "outputs": [
    {
     "name": "stdout",
     "output_type": "stream",
     "text": [
      "120\n",
      "[0, 1, 1, 2, 3]\n"
     ]
    }
   ],
   "source": [
    "print(factorial(5))\n",
    "print(fibonacci_sequence(5))"
   ]
  },
  {
   "cell_type": "code",
   "execution_count": 6,
   "metadata": {},
   "outputs": [
    {
     "name": "stdout",
     "output_type": "stream",
     "text": [
      "1\n"
     ]
    }
   ],
   "source": [
    "print(absolute(-1))"
   ]
  },
  {
   "cell_type": "code",
   "execution_count": 7,
   "metadata": {},
   "outputs": [
    {
     "name": "stdout",
     "output_type": "stream",
     "text": [
      "15\n",
      "120\n"
     ]
    }
   ],
   "source": [
    "print(summation(numpy.array([1,2,3,4,5])))\n",
    "print(product(numpy.array([1,2,3,4,5])))"
   ]
  },
  {
   "cell_type": "code",
   "execution_count": 8,
   "metadata": {},
   "outputs": [
    {
     "data": {
      "text/plain": [
       "2.6457520483808037"
      ]
     },
     "execution_count": 8,
     "metadata": {},
     "output_type": "execute_result"
    }
   ],
   "source": [
    "sqrt(7)"
   ]
  },
  {
   "cell_type": "code",
   "execution_count": 9,
   "metadata": {},
   "outputs": [
    {
     "name": "stdout",
     "output_type": "stream",
     "text": [
      "[-0.8768940144241384, -9.123105985575862]\n"
     ]
    },
    {
     "ename": "Warning",
     "evalue": "discriminant was negative! ['1 + 5.567764363224866i', '1 - 5.567764363224866i']",
     "output_type": "error",
     "traceback": [
      "\u001b[1;31m---------------------------------------------------------------------------\u001b[0m",
      "\u001b[1;31mWarning\u001b[0m                                   Traceback (most recent call last)",
      "Cell \u001b[1;32mIn[9], line 2\u001b[0m\n\u001b[0;32m      1\u001b[0m \u001b[39mprint\u001b[39m(quadratic_roots(\u001b[39m1\u001b[39m,\u001b[39m5\u001b[39m,\u001b[39m2\u001b[39m))\n\u001b[1;32m----> 2\u001b[0m \u001b[39mprint\u001b[39m(quadratic_roots(\u001b[39m2\u001b[39;49m,\u001b[39m-\u001b[39;49m\u001b[39m1\u001b[39;49m,\u001b[39m4\u001b[39;49m))\n",
      "File \u001b[1;32me:\\Project\\DATA\\My-Scripts\\pymath\\main.py:52\u001b[0m, in \u001b[0;36mquadratic_roots\u001b[1;34m(a, b, c)\u001b[0m\n\u001b[0;32m     50\u001b[0m     x1 \u001b[39m=\u001b[39m \u001b[39mf\u001b[39m\u001b[39m\"\u001b[39m\u001b[39m{\u001b[39;00m\u001b[39m-\u001b[39mb\u001b[39m}\u001b[39;00m\u001b[39m + \u001b[39m\u001b[39m{\u001b[39;00msqrt(absolute(D))\u001b[39m}\u001b[39;00m\u001b[39mi\u001b[39m\u001b[39m\"\u001b[39m\n\u001b[0;32m     51\u001b[0m     x2 \u001b[39m=\u001b[39m \u001b[39mf\u001b[39m\u001b[39m\"\u001b[39m\u001b[39m{\u001b[39;00m\u001b[39m-\u001b[39mb\u001b[39m}\u001b[39;00m\u001b[39m - \u001b[39m\u001b[39m{\u001b[39;00msqrt(absolute(D))\u001b[39m}\u001b[39;00m\u001b[39mi\u001b[39m\u001b[39m\"\u001b[39m\n\u001b[1;32m---> 52\u001b[0m     \u001b[39mraise\u001b[39;00m \u001b[39mWarning\u001b[39;00m(\u001b[39mf\u001b[39m\u001b[39m\"\u001b[39m\u001b[39mdiscriminant was negative! \u001b[39m\u001b[39m{\u001b[39;00m[x1,x2]\u001b[39m}\u001b[39;00m\u001b[39m\"\u001b[39m)\n\u001b[0;32m     53\u001b[0m x1 \u001b[39m=\u001b[39m \u001b[39m-\u001b[39mb\u001b[39m+\u001b[39msqrt(D)\n\u001b[0;32m     54\u001b[0m x2 \u001b[39m=\u001b[39m \u001b[39m-\u001b[39mb\u001b[39m-\u001b[39msqrt(D)\n",
      "\u001b[1;31mWarning\u001b[0m: discriminant was negative! ['1 + 5.567764363224866i', '1 - 5.567764363224866i']"
     ]
    }
   ],
   "source": [
    "print(quadratic_roots(1,5,2))\n",
    "print(quadratic_roots(2,-1,4))"
   ]
  },
  {
   "cell_type": "code",
   "execution_count": null,
   "metadata": {},
   "outputs": [
    {
     "name": "stdout",
     "output_type": "stream",
     "text": [
      "2.7182818284590455\n"
     ]
    }
   ],
   "source": [
    "print(exp(1))"
   ]
  },
  {
   "cell_type": "code",
   "execution_count": 10,
   "metadata": {},
   "outputs": [
    {
     "name": "stdout",
     "output_type": "stream",
     "text": [
      "0.017\n",
      "0.841\n"
     ]
    }
   ],
   "source": [
    "print(sin(1,unit = \"deg\"))\n",
    "print(sin(1,unit = \"rad\"))"
   ]
  },
  {
   "cell_type": "code",
   "execution_count": 11,
   "metadata": {},
   "outputs": [
    {
     "name": "stdout",
     "output_type": "stream",
     "text": [
      "0.4771212547196624\n",
      "1.0988102496193823\n"
     ]
    }
   ],
   "source": [
    "print(log(3))\n",
    "print(ln(3))"
   ]
  },
  {
   "cell_type": "code",
   "execution_count": 12,
   "metadata": {},
   "outputs": [
    {
     "name": "stdout",
     "output_type": "stream",
     "text": [
      "-0.5401174870422412\n",
      "nan\n"
     ]
    }
   ],
   "source": [
    "print(cos(90,unit = \"deg\"))\n",
    "print(cos(90,unit = \"rad\"))"
   ]
  },
  {
   "cell_type": "code",
   "execution_count": 13,
   "metadata": {},
   "outputs": [
    {
     "name": "stdout",
     "output_type": "stream",
     "text": [
      "5.237229365732899\n",
      "4.898979485575103\n"
     ]
    }
   ],
   "source": [
    "print(standard_deviation([10,12,23,23,16,23,21,16],True))\n",
    "print(standard_deviation([10,12,23,23,16,23,21,16],False))"
   ]
  },
  {
   "cell_type": "code",
   "execution_count": 14,
   "metadata": {},
   "outputs": [
    {
     "name": "stdout",
     "output_type": "stream",
     "text": [
      "385\n"
     ]
    }
   ],
   "source": [
    "print(square_sum([1,2,3,4,5,6,7,8,9,10]))"
   ]
  },
  {
   "cell_type": "code",
   "execution_count": 15,
   "metadata": {},
   "outputs": [
    {
     "name": "stdout",
     "output_type": "stream",
     "text": [
      "6\n"
     ]
    }
   ],
   "source": [
    "print(mode([1,2,3,4,2,2,5,6,6,6,6]))"
   ]
  },
  {
   "cell_type": "code",
   "execution_count": 16,
   "metadata": {},
   "outputs": [
    {
     "name": "stdout",
     "output_type": "stream",
     "text": [
      "4.528728688116765\n"
     ]
    }
   ],
   "source": [
    "print(geometric_mean([1,2,3,4,5,6,7,8,9,10]))"
   ]
  },
  {
   "cell_type": "code",
   "execution_count": 17,
   "metadata": {},
   "outputs": [
    {
     "name": "stdout",
     "output_type": "stream",
     "text": [
      "3.414171521474055\n"
     ]
    }
   ],
   "source": [
    "print(harmonic_mean([1,2,3,4,5,6,7,8,9,10]))"
   ]
  },
  {
   "cell_type": "code",
   "execution_count": 18,
   "metadata": {},
   "outputs": [
    {
     "name": "stdout",
     "output_type": "stream",
     "text": [
      "30.0\n",
      "15.0\n"
     ]
    }
   ],
   "source": [
    "print(permutation(6,2))\n",
    "print(combination(6,2))"
   ]
  },
  {
   "cell_type": "code",
   "execution_count": 19,
   "metadata": {},
   "outputs": [
    {
     "name": "stdout",
     "output_type": "stream",
     "text": [
      "2.806243040089087\n"
     ]
    }
   ],
   "source": [
    "print(zscore([1,2,3,4,5,6],5))"
   ]
  },
  {
   "cell_type": "code",
   "execution_count": 20,
   "metadata": {},
   "outputs": [
    {
     "name": "stdout",
     "output_type": "stream",
     "text": [
      "[2.0, 3.0, 4.0, 5.0, 6.0, 7.0, 8.0, 9.0]\n"
     ]
    }
   ],
   "source": [
    "print(moving_average([1,2,3,4,5,6,7,8,9,10],3))"
   ]
  },
  {
   "cell_type": "code",
   "execution_count": 21,
   "metadata": {},
   "outputs": [
    {
     "name": "stdout",
     "output_type": "stream",
     "text": [
      "[1, 1.2000000000000002, 1.5600000000000003, 2.048, 2.6384, 3.3107200000000003, 4.048576000000001, 4.838860800000001, 5.671088640000001, 6.536870912]\n"
     ]
    }
   ],
   "source": [
    "print(exponential_moving_average([1,2,3,4,5,6,7,8,9,10],0.2))"
   ]
  },
  {
   "cell_type": "code",
   "execution_count": 22,
   "metadata": {},
   "outputs": [
    {
     "name": "stdout",
     "output_type": "stream",
     "text": [
      "0.5076730825668095\n"
     ]
    }
   ],
   "source": [
    "print(correlation_coefficient([1,-2,-3,0,5],[2,4,6,8,10]))"
   ]
  },
  {
   "cell_type": "code",
   "execution_count": 23,
   "metadata": {},
   "outputs": [
    {
     "data": {
      "text/plain": [
       "array([0.30103   , 0.60205999, 0.90308999, 1.20411998, 1.50514998])"
      ]
     },
     "execution_count": 23,
     "metadata": {},
     "output_type": "execute_result"
    }
   ],
   "source": [
    "numpy.array([1,2,3,4,5])*log(2)"
   ]
  },
  {
   "cell_type": "code",
   "execution_count": 24,
   "metadata": {},
   "outputs": [
    {
     "data": {
      "text/plain": [
       "array([0.        , 0.69314718, 1.09861229, 1.38629436, 1.60943791])"
      ]
     },
     "execution_count": 24,
     "metadata": {},
     "output_type": "execute_result"
    }
   ],
   "source": [
    "numpy.log(numpy.array([1,2,3,4,5]))"
   ]
  },
  {
   "cell_type": "code",
   "execution_count": null,
   "metadata": {},
   "outputs": [],
   "source": []
  }
 ],
 "metadata": {
  "kernelspec": {
   "display_name": "Python 3",
   "language": "python",
   "name": "python3"
  },
  "language_info": {
   "codemirror_mode": {
    "name": "ipython",
    "version": 3
   },
   "file_extension": ".py",
   "mimetype": "text/x-python",
   "name": "python",
   "nbconvert_exporter": "python",
   "pygments_lexer": "ipython3",
   "version": "3.11.3"
  },
  "orig_nbformat": 4
 },
 "nbformat": 4,
 "nbformat_minor": 2
}
